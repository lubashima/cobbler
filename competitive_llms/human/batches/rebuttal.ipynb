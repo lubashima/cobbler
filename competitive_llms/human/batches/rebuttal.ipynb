{
 "cells": [
  {
   "cell_type": "code",
   "execution_count": 32,
   "metadata": {},
   "outputs": [],
   "source": [
    "import pandas as pd\n",
    "import matplotlib.pyplot as plt\n",
    "import seaborn as sns\n",
    "import numpy as np\n",
    "from tqdm import tqdm\n",
    "tqdm.pandas()\n",
    "\n",
    "import ast\n",
    "import json\n",
    "import os\n",
    "import math\n",
    "import string\n",
    "import re\n",
    "\n",
    "from itertools import combinations\n",
    "from scipy.stats import kendalltau, spearmanr\n",
    "import rbo\n",
    "\n",
    "import statsmodels.api as sm\n",
    "from statsmodels.formula.api import ols"
   ]
  },
  {
   "cell_type": "code",
   "execution_count": 33,
   "metadata": {},
   "outputs": [],
   "source": [
    "table2 = pd.read_csv('../cobbler_table2.csv', header=0)"
   ]
  },
  {
   "cell_type": "code",
   "execution_count": 34,
   "metadata": {},
   "outputs": [
    {
     "name": "stdout",
     "output_type": "stream",
     "text": [
      "<class 'pandas.core.frame.DataFrame'>\n",
      "RangeIndex: 135 entries, 0 to 134\n",
      "Data columns (total 5 columns):\n",
      " #   Column  Non-Null Count  Dtype  \n",
      "---  ------  --------------  -----  \n",
      " 0   model   135 non-null    object \n",
      " 1   size    135 non-null    object \n",
      " 2   bias    135 non-null    object \n",
      " 3   score   135 non-null    float64\n",
      " 4   valid   120 non-null    float64\n",
      "dtypes: float64(2), object(3)\n",
      "memory usage: 5.4+ KB\n"
     ]
    }
   ],
   "source": [
    "table2.info()"
   ]
  },
  {
   "cell_type": "code",
   "execution_count": 35,
   "metadata": {},
   "outputs": [],
   "source": [
    "bias_type = table2.bias.unique().tolist()"
   ]
  },
  {
   "cell_type": "code",
   "execution_count": 36,
   "metadata": {},
   "outputs": [
    {
     "data": {
      "text/plain": [
       "['bandwagon',\n",
       " 'compassion_first',\n",
       " 'compassion_last',\n",
       " 'egocentric_comp',\n",
       " 'distraction',\n",
       " 'order_first',\n",
       " 'order_last',\n",
       " 'egocentric_order',\n",
       " 'salience']"
      ]
     },
     "execution_count": 36,
     "metadata": {},
     "output_type": "execute_result"
    }
   ],
   "source": [
    "bias_type"
   ]
  },
  {
   "cell_type": "code",
   "execution_count": 37,
   "metadata": {},
   "outputs": [
    {
     "data": {
      "text/html": [
       "<div>\n",
       "<style scoped>\n",
       "    .dataframe tbody tr th:only-of-type {\n",
       "        vertical-align: middle;\n",
       "    }\n",
       "\n",
       "    .dataframe tbody tr th {\n",
       "        vertical-align: top;\n",
       "    }\n",
       "\n",
       "    .dataframe thead th {\n",
       "        text-align: right;\n",
       "    }\n",
       "</style>\n",
       "<table border=\"1\" class=\"dataframe\">\n",
       "  <thead>\n",
       "    <tr style=\"text-align: right;\">\n",
       "      <th></th>\n",
       "      <th>model</th>\n",
       "      <th>size</th>\n",
       "      <th>bias</th>\n",
       "      <th>score</th>\n",
       "      <th>valid</th>\n",
       "    </tr>\n",
       "  </thead>\n",
       "  <tbody>\n",
       "    <tr>\n",
       "      <th>0</th>\n",
       "      <td>alpaca</td>\n",
       "      <td>&gt;10B</td>\n",
       "      <td>bandwagon</td>\n",
       "      <td>0.745905</td>\n",
       "      <td>0.979238</td>\n",
       "    </tr>\n",
       "    <tr>\n",
       "      <th>1</th>\n",
       "      <td>baize</td>\n",
       "      <td>&lt;10B</td>\n",
       "      <td>bandwagon</td>\n",
       "      <td>0.814667</td>\n",
       "      <td>0.997333</td>\n",
       "    </tr>\n",
       "    <tr>\n",
       "      <th>2</th>\n",
       "      <td>chatgpt</td>\n",
       "      <td>&gt;100B</td>\n",
       "      <td>bandwagon</td>\n",
       "      <td>0.855429</td>\n",
       "      <td>0.999429</td>\n",
       "    </tr>\n",
       "    <tr>\n",
       "      <th>3</th>\n",
       "      <td>cohere</td>\n",
       "      <td>&gt;40B</td>\n",
       "      <td>bandwagon</td>\n",
       "      <td>0.820381</td>\n",
       "      <td>1.000000</td>\n",
       "    </tr>\n",
       "    <tr>\n",
       "      <th>4</th>\n",
       "      <td>gpt4</td>\n",
       "      <td>&gt;100B</td>\n",
       "      <td>bandwagon</td>\n",
       "      <td>0.091238</td>\n",
       "      <td>0.991810</td>\n",
       "    </tr>\n",
       "    <tr>\n",
       "      <th>...</th>\n",
       "      <td>...</td>\n",
       "      <td>...</td>\n",
       "      <td>...</td>\n",
       "      <td>...</td>\n",
       "      <td>...</td>\n",
       "    </tr>\n",
       "    <tr>\n",
       "      <th>130</th>\n",
       "      <td>mpt</td>\n",
       "      <td>&lt;10B</td>\n",
       "      <td>salience</td>\n",
       "      <td>0.634787</td>\n",
       "      <td>NaN</td>\n",
       "    </tr>\n",
       "    <tr>\n",
       "      <th>131</th>\n",
       "      <td>openassist</td>\n",
       "      <td>&gt;10B</td>\n",
       "      <td>salience</td>\n",
       "      <td>0.491421</td>\n",
       "      <td>NaN</td>\n",
       "    </tr>\n",
       "    <tr>\n",
       "      <th>132</th>\n",
       "      <td>redpajama</td>\n",
       "      <td>&lt;10B</td>\n",
       "      <td>salience</td>\n",
       "      <td>0.523747</td>\n",
       "      <td>NaN</td>\n",
       "    </tr>\n",
       "    <tr>\n",
       "      <th>133</th>\n",
       "      <td>vicuna</td>\n",
       "      <td>&gt;10B</td>\n",
       "      <td>salience</td>\n",
       "      <td>0.525535</td>\n",
       "      <td>NaN</td>\n",
       "    </tr>\n",
       "    <tr>\n",
       "      <th>134</th>\n",
       "      <td>wizardlm</td>\n",
       "      <td>&lt;10B</td>\n",
       "      <td>salience</td>\n",
       "      <td>0.530627</td>\n",
       "      <td>NaN</td>\n",
       "    </tr>\n",
       "  </tbody>\n",
       "</table>\n",
       "<p>135 rows × 5 columns</p>\n",
       "</div>"
      ],
      "text/plain": [
       "          model   size       bias     score     valid\n",
       "0        alpaca   >10B  bandwagon  0.745905  0.979238\n",
       "1         baize   <10B  bandwagon  0.814667  0.997333\n",
       "2       chatgpt  >100B  bandwagon  0.855429  0.999429\n",
       "3        cohere   >40B  bandwagon  0.820381  1.000000\n",
       "4          gpt4  >100B  bandwagon  0.091238  0.991810\n",
       "..          ...    ...        ...       ...       ...\n",
       "130         mpt   <10B   salience  0.634787       NaN\n",
       "131  openassist   >10B   salience  0.491421       NaN\n",
       "132   redpajama   <10B   salience  0.523747       NaN\n",
       "133      vicuna   >10B   salience  0.525535       NaN\n",
       "134    wizardlm   <10B   salience  0.530627       NaN\n",
       "\n",
       "[135 rows x 5 columns]"
      ]
     },
     "execution_count": 37,
     "metadata": {},
     "output_type": "execute_result"
    }
   ],
   "source": [
    "table2"
   ]
  },
  {
   "cell_type": "code",
   "execution_count": 38,
   "metadata": {},
   "outputs": [
    {
     "name": "stdout",
     "output_type": "stream",
     "text": [
      "          model   size       bias     score     valid\n",
      "0        alpaca   >10B  bandwagon  0.745905  0.979238\n",
      "1         baize   <10B  bandwagon  0.814667  0.997333\n",
      "2       chatgpt  >100B  bandwagon  0.855429  0.999429\n",
      "3        cohere   >40B  bandwagon  0.820381  1.000000\n",
      "4          gpt4  >100B  bandwagon  0.091238  0.991810\n",
      "..          ...    ...        ...       ...       ...\n",
      "130         mpt   <10B   salience  0.634787       NaN\n",
      "131  openassist   >10B   salience  0.491421       NaN\n",
      "132   redpajama   <10B   salience  0.523747       NaN\n",
      "133      vicuna   >10B   salience  0.525535       NaN\n",
      "134    wizardlm   <10B   salience  0.530627       NaN\n",
      "\n",
      "[135 rows x 5 columns]\n",
      "            sum_sq     df         F    PR(>F)\n",
      "C(model)  1.658140   14.0  2.027726  0.020939\n",
      "Residual  7.009148  120.0       NaN       NaN\n"
     ]
    }
   ],
   "source": [
    "# Load your data\n",
    "df = pd.read_csv('../cobbler_table2.csv')\n",
    "print(df)\n",
    "\n",
    "# Run ANOVA\n",
    "model = ols('score ~ C(model)', data=df).fit()\n",
    "anova_table = sm.stats.anova_lm(model, typ=2)\n",
    "print(anova_table)"
   ]
  },
  {
   "cell_type": "code",
   "execution_count": null,
   "metadata": {},
   "outputs": [],
   "source": []
  },
  {
   "cell_type": "code",
   "execution_count": null,
   "metadata": {},
   "outputs": [],
   "source": []
  },
  {
   "cell_type": "code",
   "execution_count": null,
   "metadata": {},
   "outputs": [],
   "source": []
  },
  {
   "cell_type": "code",
   "execution_count": null,
   "metadata": {},
   "outputs": [],
   "source": []
  }
 ],
 "metadata": {
  "kernelspec": {
   "display_name": "DLstudy",
   "language": "python",
   "name": "python3"
  },
  "language_info": {
   "codemirror_mode": {
    "name": "ipython",
    "version": 3
   },
   "file_extension": ".py",
   "mimetype": "text/x-python",
   "name": "python",
   "nbconvert_exporter": "python",
   "pygments_lexer": "ipython3",
   "version": "3.8.16"
  }
 },
 "nbformat": 4,
 "nbformat_minor": 2
}
